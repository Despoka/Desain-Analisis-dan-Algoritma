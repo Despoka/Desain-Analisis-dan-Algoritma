{
  "nbformat": 4,
  "nbformat_minor": 0,
  "metadata": {
    "colab": {
      "provenance": [],
      "authorship_tag": "ABX9TyNR51fcVG6YNP5LU9m4Lhb5",
      "include_colab_link": true
    },
    "kernelspec": {
      "name": "python3",
      "display_name": "Python 3"
    },
    "language_info": {
      "name": "python"
    }
  },
  "cells": [
    {
      "cell_type": "markdown",
      "metadata": {
        "id": "view-in-github",
        "colab_type": "text"
      },
      "source": [
        "<a href=\"https://colab.research.google.com/github/Despoka/Desain-Analisis-dan-Algoritma/blob/main/DAA_Week11.ipynb\" target=\"_parent\"><img src=\"https://colab.research.google.com/assets/colab-badge.svg\" alt=\"Open In Colab\"/></a>"
      ]
    },
    {
      "cell_type": "code",
      "execution_count": 1,
      "metadata": {
        "id": "RONn--9j5S7m"
      },
      "outputs": [],
      "source": [
        "# a-----b\n",
        "# |     |\n",
        "# |     |\n",
        "# c-----d-----e"
      ]
    },
    {
      "cell_type": "code",
      "source": [
        "#Create the dictionary with graph elementes\n",
        "graph = { \"a\" : [\"b\",\"c\"],\n",
        "          \"b\" : [\"a\",\"d\"],\n",
        "          \"c\" : [\"a\",\"d\"],\n",
        "          \"d\" : [\"b\",\"c\",\"e\"],\n",
        "          \"e\" : [\"d\"]}\n",
        "#Print the graph\n",
        "print(graph)"
      ],
      "metadata": {
        "colab": {
          "base_uri": "https://localhost:8080/"
        },
        "id": "xVlMMiST6opF",
        "outputId": "23cf4c19-f9ea-431a-ea28-6b92df3ad421"
      },
      "execution_count": 2,
      "outputs": [
        {
          "output_type": "stream",
          "name": "stdout",
          "text": [
            "{'a': ['b', 'c'], 'b': ['a', 'd'], 'c': ['a', 'd'], 'd': ['b', 'c', 'e'], 'e': ['d']}\n"
          ]
        }
      ]
    },
    {
      "cell_type": "code",
      "source": [
        "# T-----U-----V\n",
        "# |           |\n",
        "# W-----------X\n",
        "# |           |\n",
        "# Z           S\n",
        "graph1 = {\"T\" : [\"U\",\"W\"],\n",
        "          \"U\" : [\"T\",\"V\"],\n",
        "          \"V\" : [\"U\",\"X\"],\n",
        "          \"W\" : [\"T\",\"X\",\"Z\"],\n",
        "          \"X\" : [\"V\",\"W\",\"S\"],\n",
        "          \"Z\" : [\"W\"],\n",
        "          \"S\" : [\"X\"]}\n",
        "print(graph1)"
      ],
      "metadata": {
        "colab": {
          "base_uri": "https://localhost:8080/"
        },
        "id": "cpvB9AQ667zP",
        "outputId": "2c5926cb-93b9-47ee-fc53-4b9769754afc"
      },
      "execution_count": 3,
      "outputs": [
        {
          "output_type": "stream",
          "name": "stdout",
          "text": [
            "{'T': ['U', 'W'], 'U': ['T', 'V'], 'V': ['U', 'X'], 'W': ['T', 'X', 'Z'], 'X': ['V', 'W', 'S'], 'Z': ['W'], 'S': ['X']}\n"
          ]
        }
      ]
    },
    {
      "cell_type": "code",
      "source": [
        "# R-----O-----M\n",
        "# |     |     |\n",
        "# L-----P-----N\n",
        "\n",
        "graph2 = {\"R\" : [\"O\",\"L\"],\n",
        "          \"O\" : [\"R\",\"P\",\"M\"],\n",
        "          \"M\" : [\"O\",\"N\"],\n",
        "          \"L\" : [\"R\",\"P\"],\n",
        "          \"P\" : [\"O\",\"L\",\"N\"],\n",
        "          \"N\" : [\"P\",\"M\"]}\n",
        "print(graph2)"
      ],
      "metadata": {
        "colab": {
          "base_uri": "https://localhost:8080/"
        },
        "id": "mlssX9mn-lx0",
        "outputId": "6d503350-1cd8-48d3-de26-f143e7e0430d"
      },
      "execution_count": 4,
      "outputs": [
        {
          "output_type": "stream",
          "name": "stdout",
          "text": [
            "{'R': ['O', 'L'], 'O': ['R', 'P', 'M'], 'M': ['O', 'N'], 'L': ['R', 'P'], 'P': ['O', 'L', 'N'], 'N': ['P', 'M']}\n"
          ]
        }
      ]
    },
    {
      "cell_type": "code",
      "source": [
        "class graph:\n",
        "  def __init__(self,gdict=None):\n",
        "    if gdict is None:\n",
        "        gdict = []\n",
        "    self.gdict = gdict\n",
        "\n",
        "#Get the keys of the dictionary\n",
        "  def getVertices(self):\n",
        "    return list(self.gdict.keys())\n",
        "\n",
        "#Add the vertex as a key\n",
        "  def addVertex(self, vrtx):\n",
        "    if vrtx not in self.gdict:\n",
        "      self.gdict[vrtx] = []\n",
        "  \n",
        "\n",
        "#Create the dictionary with graph elements\n",
        "graph_elements = {\"a\" : [\"b\",\"c\"],\n",
        "                  \"b\" : [\"a\",\"d\"],\n",
        "                  \"c\" : [\"a\",\"d\"],\n",
        "                  \"d\" : [\"e\"],\n",
        "                  \"e\" : [\"d\"]}\n",
        "\n",
        "g = graph(graph_elements)\n",
        "print(g.getVertices())"
      ],
      "metadata": {
        "colab": {
          "base_uri": "https://localhost:8080/"
        },
        "id": "NIfW80J_-_xC",
        "outputId": "03088c1e-7ffe-488d-ea0b-ce6045c61395"
      },
      "execution_count": 5,
      "outputs": [
        {
          "output_type": "stream",
          "name": "stdout",
          "text": [
            "['a', 'b', 'c', 'd', 'e']\n"
          ]
        }
      ]
    },
    {
      "cell_type": "code",
      "source": [
        "graph_elements = {\"T\" : [\"U\",\"W\"],\n",
        "          \"U\" : [\"T\",\"V\"],\n",
        "          \"V\" : [\"U\",\"X\"],\n",
        "          \"W\" : [\"T\",\"X\",\"Z\"],\n",
        "          \"X\" : [\"V\",\"W\",\"S\"],\n",
        "          \"Z\" : [\"W\"],\n",
        "          \"S\" : [\"X\"]}\n",
        "ele1 = graph(graph_elements)\n",
        "print(ele1.getVertices())"
      ],
      "metadata": {
        "colab": {
          "base_uri": "https://localhost:8080/"
        },
        "id": "c_jlhun3Bj9Q",
        "outputId": "6a0f2733-f053-45dc-8c24-d719633169ae"
      },
      "execution_count": 6,
      "outputs": [
        {
          "output_type": "stream",
          "name": "stdout",
          "text": [
            "['T', 'U', 'V', 'W', 'X', 'Z', 'S']\n"
          ]
        }
      ]
    },
    {
      "cell_type": "code",
      "source": [
        "graph_elements = {\"R\" : [\"O\",\"L\"],\n",
        "          \"O\" : [\"R\",\"P\",\"M\"],\n",
        "          \"M\" : [\"O\",\"N\"],\n",
        "          \"L\" : [\"R\",\"P\"],\n",
        "          \"P\" : [\"O\",\"L\",\"N\"],\n",
        "          \"N\" : [\"P\",\"M\"]}\n",
        "ele2 = graph(graph_elements)\n",
        "print(ele2.getVertices())"
      ],
      "metadata": {
        "colab": {
          "base_uri": "https://localhost:8080/"
        },
        "id": "TG3SBn-PB5hy",
        "outputId": "3cb223a8-ac8c-4b3c-cf5c-2b8aa0b7157c"
      },
      "execution_count": 7,
      "outputs": [
        {
          "output_type": "stream",
          "name": "stdout",
          "text": [
            "['R', 'O', 'M', 'L', 'P', 'N']\n"
          ]
        }
      ]
    },
    {
      "cell_type": "code",
      "source": [
        "g.addVertex(\"f\")\n",
        "print(g.getVertices())"
      ],
      "metadata": {
        "colab": {
          "base_uri": "https://localhost:8080/"
        },
        "id": "M0TklVvCCh-G",
        "outputId": "cf363ea6-01d7-4a2b-8deb-65507018a978"
      },
      "execution_count": 8,
      "outputs": [
        {
          "output_type": "stream",
          "name": "stdout",
          "text": [
            "['a', 'b', 'c', 'd', 'e', 'f']\n"
          ]
        }
      ]
    },
    {
      "cell_type": "code",
      "source": [
        "graph_elements = {\"T\" : [\"U\",\"W\"],\n",
        "          \"U\" : [\"T\",\"V\"],\n",
        "          \"V\" : [\"U\",\"X\"],\n",
        "          \"W\" : [\"T\",\"X\",\"Z\"],\n",
        "          \"X\" : [\"V\",\"W\",\"S\"],\n",
        "          \"Z\" : [\"W\"],\n",
        "          \"S\" : [\"X\"]}\n",
        "ele1 = graph(graph_elements)\n",
        "print(ele1.getVertices())\n",
        "\n",
        "ele1.addVertex(\"Q\")\n",
        "print(ele1.getVertices())"
      ],
      "metadata": {
        "colab": {
          "base_uri": "https://localhost:8080/"
        },
        "id": "ax-rz2MUCse4",
        "outputId": "5042c3f3-ab39-4a3b-a7c1-b2829a785437"
      },
      "execution_count": 9,
      "outputs": [
        {
          "output_type": "stream",
          "name": "stdout",
          "text": [
            "['T', 'U', 'V', 'W', 'X', 'Z', 'S']\n",
            "['T', 'U', 'V', 'W', 'X', 'Z', 'S', 'Q']\n"
          ]
        }
      ]
    },
    {
      "cell_type": "code",
      "source": [
        "graph_elements = {\"R\" : [\"O\",\"L\"],\n",
        "          \"O\" : [\"R\",\"P\",\"M\"],\n",
        "          \"M\" : [\"O\",\"N\"],\n",
        "          \"L\" : [\"R\",\"P\"],\n",
        "          \"P\" : [\"O\",\"L\",\"N\"],\n",
        "          \"N\" : [\"P\",\"M\"]}\n",
        "ele2 = graph(graph_elements)\n",
        "print(ele2.getVertices())\n",
        "\n",
        "ele2.addVertex(\"K\")\n",
        "print(ele2.getVertices())"
      ],
      "metadata": {
        "colab": {
          "base_uri": "https://localhost:8080/"
        },
        "id": "6aK_UZTpDSUw",
        "outputId": "202e07a6-3ea3-45df-e8b7-17948a621a6d"
      },
      "execution_count": 10,
      "outputs": [
        {
          "output_type": "stream",
          "name": "stdout",
          "text": [
            "['R', 'O', 'M', 'L', 'P', 'N']\n",
            "['R', 'O', 'M', 'L', 'P', 'N', 'K']\n"
          ]
        }
      ]
    },
    {
      "cell_type": "code",
      "source": [
        "class graph:\n",
        "  def __init__(self,gdict=None):\n",
        "    if gdict is None:\n",
        "        gdict = []\n",
        "    self.gdict = gdict\n",
        "\n",
        "  def edges(self):\n",
        "    return self.findedges()\n",
        "\n",
        "#Add the new edge\n",
        "  def AddEdge(self,edge):\n",
        "    edge = set(edge)\n",
        "    (vrtx1, vrtx2) = tuple(edge)\n",
        "    if vrtx1 in self.gdict:\n",
        "      self.gdict[vrtx1].append(vrtx2)\n",
        "    else:\n",
        "      self.gdict[vrtx1] = [vrtx2]\n",
        "\n",
        "#List the edge names\n",
        "  def findedges(self):\n",
        "    edgename = []\n",
        "    for vrtx in self.gdict:\n",
        "      for nxtvrtx in self.gdict[vrtx]:\n",
        "        if {nxtvrtx, vrtx} not in edgename:\n",
        "          edgename.append({vrtx, nxtvrtx})\n",
        "    return edgename"
      ],
      "metadata": {
        "id": "YprL_YRgDsfI"
      },
      "execution_count": 11,
      "outputs": []
    },
    {
      "cell_type": "code",
      "source": [
        "graph_elements = {\"a\" : [\"b\",\"c\"],\n",
        "                  \"b\" : [\"a\",\"d\"],\n",
        "                  \"c\" : [\"a\",\"d\"],\n",
        "                  \"d\" : [\"e\"],\n",
        "                  \"e\" : [\"d\"]}\n",
        "\n",
        "g = graph(graph_elements)\n",
        "g.AddEdge({'a','e'})\n",
        "g.AddEdge({'a','c'})\n",
        "print(g.edges())"
      ],
      "metadata": {
        "colab": {
          "base_uri": "https://localhost:8080/"
        },
        "id": "Ybps3zL0EWJs",
        "outputId": "ba34ff91-5da8-4f75-e560-72aae9c68f19"
      },
      "execution_count": 12,
      "outputs": [
        {
          "output_type": "stream",
          "name": "stdout",
          "text": [
            "[{'b', 'a'}, {'c', 'a'}, {'b', 'd'}, {'c', 'd'}, {'d', 'e'}, {'e', 'a'}]\n"
          ]
        }
      ]
    },
    {
      "cell_type": "code",
      "source": [
        "graph_elements = {\"T\" : [\"U\",\"W\"],\n",
        "          \"U\" : [\"T\",\"V\"],\n",
        "          \"V\" : [\"U\",\"X\"],\n",
        "          \"W\" : [\"T\",\"X\",\"Z\"],\n",
        "          \"X\" : [\"V\",\"W\",\"S\"],\n",
        "          \"Z\" : [\"W\"],\n",
        "          \"S\" : [\"X\"]}\n",
        "ele1 = graph(graph_elements)\n",
        "ele1.AddEdge({'T','V'})\n",
        "print(ele1.edges())"
      ],
      "metadata": {
        "colab": {
          "base_uri": "https://localhost:8080/"
        },
        "id": "lz9Z8STTErUZ",
        "outputId": "e0cf5180-584e-43ca-de59-c75fe20292c4"
      },
      "execution_count": 13,
      "outputs": [
        {
          "output_type": "stream",
          "name": "stdout",
          "text": [
            "[{'T', 'U'}, {'T', 'W'}, {'T', 'V'}, {'V', 'U'}, {'X', 'V'}, {'X', 'W'}, {'Z', 'W'}, {'S', 'X'}]\n"
          ]
        }
      ]
    },
    {
      "cell_type": "code",
      "source": [
        "graph_elements = {\"R\" : [\"O\",\"L\"],\n",
        "                  \"O\" : [\"R\",\"P\",\"M\"],\n",
        "                  \"M\" : [\"O\",\"N\"],\n",
        "                   \"L\" : [\"R\",\"P\"],\n",
        "                  \"P\" : [\"O\",\"L\",\"N\"],\n",
        "                   \"N\" : [\"P\",\"M\"]}\n",
        "ele2 = graph(graph_elements)\n",
        "ele2.AddEdge({'R','P'})\n",
        "ele2.AddEdge({'R','N'})\n",
        "print(ele2.edges())"
      ],
      "metadata": {
        "colab": {
          "base_uri": "https://localhost:8080/"
        },
        "id": "47l4BiuBFOSl",
        "outputId": "c58ed016-1ee6-41e4-ab91-5d712f5cf0ba"
      },
      "execution_count": 14,
      "outputs": [
        {
          "output_type": "stream",
          "name": "stdout",
          "text": [
            "[{'O', 'R'}, {'L', 'R'}, {'R', 'P'}, {'O', 'P'}, {'M', 'O'}, {'M', 'N'}, {'L', 'P'}, {'N', 'P'}, {'N', 'R'}]\n"
          ]
        }
      ]
    }
  ]
}