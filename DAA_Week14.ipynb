{
  "nbformat": 4,
  "nbformat_minor": 0,
  "metadata": {
    "colab": {
      "provenance": [],
      "authorship_tag": "ABX9TyMP/mjKytkk6fqDxK6UE9yP",
      "include_colab_link": true
    },
    "kernelspec": {
      "name": "python3",
      "display_name": "Python 3"
    },
    "language_info": {
      "name": "python"
    }
  },
  "cells": [
    {
      "cell_type": "markdown",
      "metadata": {
        "id": "view-in-github",
        "colab_type": "text"
      },
      "source": [
        "<a href=\"https://colab.research.google.com/github/Despoka/Desain-Analisis-dan-Algoritma/blob/main/DAA_Week14.ipynb\" target=\"_parent\"><img src=\"https://colab.research.google.com/assets/colab-badge.svg\" alt=\"Open In Colab\"/></a>"
      ]
    },
    {
      "cell_type": "code",
      "execution_count": 1,
      "metadata": {
        "id": "09B302uVbeEC"
      },
      "outputs": [],
      "source": [
        "import networkx as nx\n",
        "import matplotlib.pyplot as plt "
      ]
    },
    {
      "cell_type": "code",
      "source": [
        "vertices = range (1,10)\n",
        "edges = [(7,2), (2,3), (7,4), (4,5), (7,3),\n",
        "         (7,5), (1,6), (1,7), (2,8), (2,9)]"
      ],
      "metadata": {
        "id": "PakICTeMbwll"
      },
      "execution_count": 7,
      "outputs": []
    },
    {
      "cell_type": "code",
      "source": [
        "G = nx.Graph()\n",
        "G.add_nodes_from(vertices)\n",
        "G.add_edges_from(edges)\n",
        "pos=nx.spring_layout (G)"
      ],
      "metadata": {
        "id": "7amlHnhVcArG"
      },
      "execution_count": 9,
      "outputs": []
    },
    {
      "cell_type": "code",
      "source": [
        "nx.draw_networkx_nodes(G,pos,\n",
        "                       nodelist=[1,4,3,8,9],\n",
        "                       label=True,\n",
        "                       node_color='g',\n",
        "                       node_size=1300)"
      ],
      "metadata": {
        "colab": {
          "base_uri": "https://localhost:8080/",
          "height": 265
        },
        "id": "q_8zACcMcBmE",
        "outputId": "c2b5056e-746f-40a8-9e2a-56538fc74aaf"
      },
      "execution_count": 16,
      "outputs": [
        {
          "output_type": "execute_result",
          "data": {
            "text/plain": [
              "<matplotlib.collections.PathCollection at 0x7f104a835dd0>"
            ]
          },
          "metadata": {},
          "execution_count": 16
        },
        {
          "output_type": "display_data",
          "data": {
            "text/plain": [
              "<Figure size 432x288 with 1 Axes>"
            ],
            "image/png": "[encoded data removed]"
          },
          "metadata": {}
        }
      ]
    },
    {
      "cell_type": "code",
      "source": [
        "nx.draw_networkx_nodes(G,pos,\n",
        "                       nodelist=[2,5,6,7],\n",
        "                       label=True,\n",
        "                       node_color='g',\n",
        "                       node_size=1300)"
      ],
      "metadata": {
        "colab": {
          "base_uri": "https://localhost:8080/",
          "height": 265
        },
        "id": "kNwnSC3sc1i5",
        "outputId": "d826932d-23a2-4333-b838-aa6d2a1c1023"
      },
      "execution_count": 17,
      "outputs": [
        {
          "output_type": "execute_result",
          "data": {
            "text/plain": [
              "<matplotlib.collections.PathCollection at 0x7f1049455fd0>"
            ]
          },
          "metadata": {},
          "execution_count": 17
        },
        {
          "output_type": "display_data",
          "data": {
            "text/plain": [
              "<Figure size 432x288 with 1 Axes>"
            ],
            "image/png": "[encoded data removed]"
          },
          "metadata": {}
        }
      ]
    },
    {
      "cell_type": "code",
      "source": [
        "labels={} \n",
        "labels[1]=r'1 NF' \n",
        "labels[2]=r'2 F' \n",
        "labels[3]=r'3 NF' \n",
        "labels[4]=r'4 NF' \n",
        "labels[5]=r'5 F' \n",
        "labels[6]=r'6 F' \n",
        "labels[7]=r'7 F' \n",
        "labels[8]=r'8 NF' \n",
        "labels[9]=r'9 NF'"
      ],
      "metadata": {
        "id": "iNqn2hyJdwRj"
      },
      "execution_count": 18,
      "outputs": []
    },
    {
      "cell_type": "code",
      "source": [
        "nx.draw_networkx_nodes( G,pos,nodelist=[1,4,3,8,9], label=True, \n",
        "                       node_color='g', node_size=1300)\n",
        "nx.draw_networkx_nodes(G,pos,nodelist=[2,5,6,7], label=True,\n",
        "                       node_color='r',node_size=1300)\n",
        "\n",
        "nx.draw_networkx_edges(G,pos,edges,width=3,alpha=0.5,edge_color='b')  \n",
        "nx.draw_networkx_labels(G,pos,labels,font_size=13,font_color='w')"
      ],
      "metadata": {
        "colab": {
          "base_uri": "https://localhost:8080/",
          "height": 404
        },
        "id": "Xjg8tTMGd5Zi",
        "outputId": "6a201bfe-4295-4b0d-a097-a79a290e5b03"
      },
      "execution_count": 20,
      "outputs": [
        {
          "output_type": "execute_result",
          "data": {
            "text/plain": [
              "{1: Text(-0.17078397687366184, 0.5834802890652967, '1 NF'),\n",
              " 2: Text(0.2861094364844748, -0.33657711538598284, '2 F'),\n",
              " 3: Text(0.21000520002878292, -0.03406123368546503, '3 NF'),\n",
              " 4: Text(-0.4992416793119408, -0.14540139583452272, '4 NF'),\n",
              " 5: Text(-0.5425674056642283, 0.09912751000551344, '5 F'),\n",
              " 6: Text(-0.20570370581785033, 1.0, '6 F'),\n",
              " 7: Text(-0.1309556078936562, 0.05163479565718784, '7 F'),\n",
              " 8: Text(0.7037041577053444, -0.4571019760575773, '8 NF'),\n",
              " 9: Text(0.3494335813427352, -0.7611008737644499, '9 NF')}"
            ]
          },
          "metadata": {},
          "execution_count": 20
        },
        {
          "output_type": "display_data",
          "data": {
            "text/plain": [
              "<Figure size 432x288 with 1 Axes>"
            ],
            "image/png": "[encoded data removed]"
          },
          "metadata": {}
        }
      ]
    }
  ]
}