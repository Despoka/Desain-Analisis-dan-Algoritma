{
  "nbformat": 4,
  "nbformat_minor": 0,
  "metadata": {
    "colab": {
      "provenance": [],
      "authorship_tag": "ABX9TyM/vczhT1oS8Z8SD+L0BhoN",
      "include_colab_link": true
    },
    "kernelspec": {
      "name": "python3",
      "display_name": "Python 3"
    },
    "language_info": {
      "name": "python"
    }
  },
  "cells": [
    {
      "cell_type": "markdown",
      "metadata": {
        "id": "view-in-github",
        "colab_type": "text"
      },
      "source": [
        "<a href=\"https://colab.research.google.com/github/Despoka/Desain-Analisis-dan-Algoritma/blob/main/DAA_Week4.ipynb\" target=\"_parent\"><img src=\"https://colab.research.google.com/assets/colab-badge.svg\" alt=\"Open In Colab\"/></a>"
      ]
    },
    {
      "cell_type": "code",
      "execution_count": 1,
      "metadata": {
        "colab": {
          "base_uri": "https://localhost:8080/"
        },
        "id": "Z4dwsvl35p3C",
        "outputId": "dead3a1e-3b83-405e-d380-e09f97523100"
      },
      "outputs": [
        {
          "output_type": "stream",
          "name": "stdout",
          "text": [
            "2 1\n"
          ]
        }
      ],
      "source": [
        "#swap function\n",
        "var1 = 1 \n",
        "var2 = 2 \n",
        "var1,var2 = var2,var1\n",
        "print(var1,var2)"
      ]
    },
    {
      "cell_type": "code",
      "source": [
        "#fungsi swap 3 variabel\n",
        "var1 = 2\n",
        "var2 = 4\n",
        "var3 = 6\n",
        "var1,var2,var3 = var3,var2,var1\n",
        "print(var1,var2,var3)"
      ],
      "metadata": {
        "colab": {
          "base_uri": "https://localhost:8080/"
        },
        "id": "qLbVyBqA52ur",
        "outputId": "e3961fdc-7fcc-4b9b-f052-190860e3f1dd"
      },
      "execution_count": 7,
      "outputs": [
        {
          "output_type": "stream",
          "name": "stdout",
          "text": [
            "6 4 2\n"
          ]
        }
      ]
    },
    {
      "cell_type": "code",
      "source": [
        "list = [25,21,22,24,23,27,26]\n",
        "\n",
        "#modifikasi sesuai angka favorit anda"
      ],
      "metadata": {
        "id": "-FQWc6oI6Nwo"
      },
      "execution_count": 8,
      "outputs": []
    },
    {
      "cell_type": "code",
      "source": [
        "lastElementIndex = len(list)-1\n",
        "print(0,list)\n",
        "for idx in range(lastElementIndex):\n",
        "\t\t\tif list[idx]>list[idx+1]:\n",
        "\t\t\t   list[idx],list[idx+1]=list[idx+1],list[idx]\n",
        "\t\t\tprint(idx+1,list)"
      ],
      "metadata": {
        "colab": {
          "base_uri": "https://localhost:8080/"
        },
        "id": "SAriaMEp7DHU",
        "outputId": "be87e255-85f2-4db8-f718-06bd9720ee04"
      },
      "execution_count": 11,
      "outputs": [
        {
          "output_type": "stream",
          "name": "stdout",
          "text": [
            "0 [21, 22, 24, 23, 25, 26, 27]\n",
            "1 [21, 22, 24, 23, 25, 26, 27]\n",
            "2 [21, 22, 24, 23, 25, 26, 27]\n",
            "3 [21, 22, 23, 24, 25, 26, 27]\n",
            "4 [21, 22, 23, 24, 25, 26, 27]\n",
            "5 [21, 22, 23, 24, 25, 26, 27]\n",
            "6 [21, 22, 23, 24, 25, 26, 27]\n"
          ]
        }
      ]
    },
    {
      "cell_type": "code",
      "source": [
        "def BubbleSort(list):\n",
        "#Exchange the elements to arange in order\n",
        "\tlastElementIndex = len(list)-1\n",
        "\tfor passNo in range (lastElementIndex,0,-1):\n",
        "\t\tfor idx in range(passNo):\n",
        "\t\t\tif list[idx]>list[idx+1]:\n",
        "\t\t\t   list[idx],list[idx+1]=list[idx+1],list[idx]\n",
        "\treturn list"
      ],
      "metadata": {
        "id": "yq0uMFc17GEj"
      },
      "execution_count": 12,
      "outputs": []
    },
    {
      "cell_type": "code",
      "source": [
        "list"
      ],
      "metadata": {
        "colab": {
          "base_uri": "https://localhost:8080/"
        },
        "id": "-N7zdxZT7yPH",
        "outputId": "bf5c8424-607d-4bcf-8b1b-315838f43d7d"
      },
      "execution_count": 13,
      "outputs": [
        {
          "output_type": "execute_result",
          "data": {
            "text/plain": [
              "[21, 22, 23, 24, 25, 26, 27]"
            ]
          },
          "metadata": {},
          "execution_count": 13
        }
      ]
    },
    {
      "cell_type": "code",
      "source": [
        "list = [25,21,22,24,23,27,26]\n",
        "BubbleSort(list)\n",
        "list"
      ],
      "metadata": {
        "colab": {
          "base_uri": "https://localhost:8080/"
        },
        "id": "cBfJR2wm71UL",
        "outputId": "47fc8576-847f-4fce-d927-929fbc7abe53"
      },
      "execution_count": 15,
      "outputs": [
        {
          "output_type": "execute_result",
          "data": {
            "text/plain": [
              "[21, 22, 23, 24, 25, 26, 27]"
            ]
          },
          "metadata": {},
          "execution_count": 15
        }
      ]
    },
    {
      "cell_type": "code",
      "source": [
        "list = [100,20,60,90,40,30,10]\n",
        "BubbleSort(list)\n",
        "list"
      ],
      "metadata": {
        "colab": {
          "base_uri": "https://localhost:8080/"
        },
        "id": "DKwhk2ZT8EW5",
        "outputId": "e62bccd2-4d6d-4e7f-f742-02ed6b5f0353"
      },
      "execution_count": 17,
      "outputs": [
        {
          "output_type": "execute_result",
          "data": {
            "text/plain": [
              "[10, 20, 30, 40, 60, 90, 100]"
            ]
          },
          "metadata": {},
          "execution_count": 17
        }
      ]
    },
    {
      "cell_type": "code",
      "source": [
        "def InsertionSort(list):\n",
        "  for i in range(1, len(list)):\n",
        "    j = i-1\n",
        "    next = list[i]\n",
        "\n",
        "    while (list[j] > next) and (j >= 0):\n",
        "      list[j+1] = list[j]\n",
        "      j=j-1\n",
        "    list[j+1] = next\n",
        "  return list"
      ],
      "metadata": {
        "id": "iK6TXqq38XMu"
      },
      "execution_count": 25,
      "outputs": []
    },
    {
      "cell_type": "code",
      "source": [
        "#masukkan angka dengan urutan lainnya\n",
        "\n",
        "list = [35,31,32,34,33,37,36]\n",
        "list"
      ],
      "metadata": {
        "colab": {
          "base_uri": "https://localhost:8080/"
        },
        "id": "iZPEvaNY9I2G",
        "outputId": "1a2bca1d-cf01-4f1c-c5de-a9d0700dae9a"
      },
      "execution_count": 23,
      "outputs": [
        {
          "output_type": "execute_result",
          "data": {
            "text/plain": [
              "[35, 31, 32, 34, 33, 37, 36]"
            ]
          },
          "metadata": {},
          "execution_count": 23
        }
      ]
    },
    {
      "cell_type": "code",
      "source": [
        "InsertionSort(list)\n",
        "list"
      ],
      "metadata": {
        "colab": {
          "base_uri": "https://localhost:8080/"
        },
        "id": "_AgQacuW9daf",
        "outputId": "8ab4570f-f8db-4a2b-f616-019eae0a869e"
      },
      "execution_count": 26,
      "outputs": [
        {
          "output_type": "execute_result",
          "data": {
            "text/plain": [
              "[31, 32, 33, 34, 35, 36, 37]"
            ]
          },
          "metadata": {},
          "execution_count": 26
        }
      ]
    },
    {
      "cell_type": "code",
      "source": [
        "list = [25,26,22,24,27,23,21]\n",
        "\n",
        "InsertionSort(list)\n",
        "print(list)"
      ],
      "metadata": {
        "colab": {
          "base_uri": "https://localhost:8080/"
        },
        "id": "gP9B6cJk9eX1",
        "outputId": "bd4c180e-d34d-4d31-dc19-4778c6993c11"
      },
      "execution_count": 27,
      "outputs": [
        {
          "output_type": "stream",
          "name": "stdout",
          "text": [
            "[21, 22, 23, 24, 25, 26, 27]\n"
          ]
        }
      ]
    },
    {
      "cell_type": "code",
      "source": [
        "list = [89,12,57,16,25,11,75]\n",
        "\n",
        "InsertionSort(list)\n",
        "list"
      ],
      "metadata": {
        "colab": {
          "base_uri": "https://localhost:8080/"
        },
        "id": "Ds9JsfW19ym6",
        "outputId": "f9b36b07-2b2a-4b5a-fc67-4201923f8941"
      },
      "execution_count": 28,
      "outputs": [
        {
          "output_type": "execute_result",
          "data": {
            "text/plain": [
              "[11, 12, 16, 25, 57, 75, 89]"
            ]
          },
          "metadata": {},
          "execution_count": 28
        }
      ]
    },
    {
      "cell_type": "code",
      "source": [
        "def SelectionSort(list):\n",
        "  for fill_slot in range(len(list) -1,0,-1):\n",
        "    max_index=0\n",
        "    for location in range(1, fill_slot+1):\n",
        "      if list[location]>list[max_index]:\n",
        "        max_index=location\n",
        "    list[fill_slot],list[max_index] = list[max_index],list[fill_slot]\n",
        "  return list"
      ],
      "metadata": {
        "id": "3P6dUxyI-M8e"
      },
      "execution_count": 29,
      "outputs": []
    },
    {
      "cell_type": "code",
      "source": [
        "list = [70,15,25,19,34,44]\n",
        "SelectionSort(list)\n",
        "list"
      ],
      "metadata": {
        "colab": {
          "base_uri": "https://localhost:8080/"
        },
        "id": "p9wunAXK-uMz",
        "outputId": "f1693f18-d7c6-4e96-aaf9-b3965287ee5f"
      },
      "execution_count": 30,
      "outputs": [
        {
          "output_type": "execute_result",
          "data": {
            "text/plain": [
              "[15, 19, 25, 34, 44, 70]"
            ]
          },
          "metadata": {},
          "execution_count": 30
        }
      ]
    },
    {
      "cell_type": "code",
      "source": [
        "list = [89,12,57,16,25]\n",
        "SelectionSort(list)\n",
        "list"
      ],
      "metadata": {
        "colab": {
          "base_uri": "https://localhost:8080/"
        },
        "id": "8_PxbYvP-yVI",
        "outputId": "af76d67f-63cb-4b4f-8138-04a02b0a9afe"
      },
      "execution_count": 31,
      "outputs": [
        {
          "output_type": "execute_result",
          "data": {
            "text/plain": [
              "[12, 16, 25, 57, 89]"
            ]
          },
          "metadata": {},
          "execution_count": 31
        }
      ]
    },
    {
      "cell_type": "code",
      "source": [
        "def LinearSearch(list, item):\n",
        "  index = 0\n",
        "  found = False\n",
        "\n",
        "  while index < len(list) and found is False:\n",
        "    if list[index] == item:\n",
        "      found = True\n",
        "    else:\n",
        "      index = index + 1\n",
        "  return found"
      ],
      "metadata": {
        "id": "q_F8Dvfa-5OO"
      },
      "execution_count": 38,
      "outputs": []
    },
    {
      "cell_type": "code",
      "source": [
        "list = [12,33,11,9,22,55,90]\n",
        "print(LinearSearch(list, 12))\n",
        "print(LinearSearch(list, 91))\n",
        "print(LinearSearch(list, 33))"
      ],
      "metadata": {
        "colab": {
          "base_uri": "https://localhost:8080/"
        },
        "id": "RvRzNybc_KOL",
        "outputId": "0442606d-519d-4e2d-a35b-e61de5c87bb2"
      },
      "execution_count": 40,
      "outputs": [
        {
          "output_type": "stream",
          "name": "stdout",
          "text": [
            "True\n",
            "False\n",
            "True\n"
          ]
        }
      ]
    },
    {
      "cell_type": "code",
      "source": [
        "list = ['y','u','i','w','o','a','q','u','j','p']\n",
        "print(LinearSearch(list, 'a'))"
      ],
      "metadata": {
        "colab": {
          "base_uri": "https://localhost:8080/"
        },
        "id": "TAUXCHCF_V4C",
        "outputId": "af2af082-c950-454c-839f-f7da405fe2d8"
      },
      "execution_count": 41,
      "outputs": [
        {
          "output_type": "stream",
          "name": "stdout",
          "text": [
            "True\n"
          ]
        }
      ]
    },
    {
      "cell_type": "code",
      "source": [
        "def BinarySearch(list, item):\n",
        "  first = 0\n",
        "  last = len(list)-1\n",
        "  found = False\n",
        "\n",
        "  while first<=last and not found:\n",
        "    midpoint = (first + last)//2\n",
        "    if list[midpoint] == item:\n",
        "      found = True\n",
        "    else:\n",
        "      if item<list[midpoint]:\n",
        "        last = midpoint-1\n",
        "      else:\n",
        "        first = midpoint+1\n",
        "  return found"
      ],
      "metadata": {
        "id": "UHCpnOF1_u8Y"
      },
      "execution_count": 43,
      "outputs": []
    },
    {
      "cell_type": "code",
      "source": [
        "list = [12,33,11,99,22,55,90]\n",
        "sorted_list = BubbleSort(list)\n",
        "print(BinarySearch(list, 12))\n",
        "print(BinarySearch(list, 91))"
      ],
      "metadata": {
        "colab": {
          "base_uri": "https://localhost:8080/"
        },
        "id": "37SA_fvRAeQO",
        "outputId": "eec35ccf-4dad-470d-8386-ba2e248aec03"
      },
      "execution_count": 44,
      "outputs": [
        {
          "output_type": "stream",
          "name": "stdout",
          "text": [
            "True\n",
            "False\n"
          ]
        }
      ]
    },
    {
      "cell_type": "code",
      "source": [
        "list = ['y','u','i','w','o','a','q','u','j','p']\n",
        "sorted_list = BubbleSort(list)\n",
        "print(BinarySearch(list, 'a'))"
      ],
      "metadata": {
        "colab": {
          "base_uri": "https://localhost:8080/"
        },
        "id": "9dwB-axUAqVJ",
        "outputId": "d6fb611e-8be2-47ef-9007-1583d2a594e2"
      },
      "execution_count": 46,
      "outputs": [
        {
          "output_type": "stream",
          "name": "stdout",
          "text": [
            "True\n"
          ]
        }
      ]
    },
    {
      "cell_type": "code",
      "source": [
        "def IntPolsearch(list,x):\n",
        "    idx0 = 0\n",
        "    idxn = (len(list)-1)\n",
        "    found = False\n",
        "    while idx0 <= idxn and x >= list[idx0] and x <= list[idxn]:\n",
        "        \n",
        "        mid = idx0 +int(((float(idxn - idx0)/( list[idxn] - list[idx0])) * (x - list[idx0])))\n",
        "\n",
        "        if list[mid] == x:\n",
        "            found = True\n",
        "            return found\n",
        "    \n",
        "        if list[mid] < x:\n",
        "            idx0 = mid +1\n",
        "    return found"
      ],
      "metadata": {
        "id": "y4lEh_KKA0a9"
      },
      "execution_count": 52,
      "outputs": []
    },
    {
      "cell_type": "code",
      "source": [
        "list = [12,33,11,99,22,55,90]\n",
        "sorted_list = BubbleSort(list)\n",
        "print(IntPolsearch(list,12))\n",
        "print(IntPolsearch(list,91))"
      ],
      "metadata": {
        "colab": {
          "base_uri": "https://localhost:8080/"
        },
        "id": "CSsE3zE0C6X8",
        "outputId": "b5ad68d3-3d4c-4d96-a4da-3f2fd5732068"
      },
      "execution_count": 49,
      "outputs": [
        {
          "output_type": "stream",
          "name": "stdout",
          "text": [
            "True\n",
            "False\n"
          ]
        }
      ]
    },
    {
      "cell_type": "code",
      "source": [
        "list = ['y','u','i','w','o','a','q','u','j','p']\n",
        "sorted_list = BubbleSort(list)"
      ],
      "metadata": {
        "id": "GXeews4JDID3"
      },
      "execution_count": 60,
      "outputs": []
    }
  ]
}